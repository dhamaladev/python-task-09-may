{
 "cells": [
  {
   "cell_type": "code",
   "execution_count": 85,
   "metadata": {},
   "outputs": [
    {
     "name": "stdout",
     "output_type": "stream",
     "text": [
      "banana 4\n",
      "apple 3\n",
      "orange 1\n",
      "grape 1\n"
     ]
    }
   ],
   "source": [
    "# Task: Develop a program to count how often each word appears in a text file and print the top 10 most frequent words.\n",
    "\n",
    "with open('words.txt', 'r') as file:\n",
    "    words = file.read().split()\n",
    "    word_dict = {}\n",
    "    for x in words:\n",
    "        if x in word_dict:\n",
    "            word_dict[x] += 1\n",
    "        else:\n",
    "            word_dict[x] = 1\n",
    "    sorted_dict = sorted(word_dict.items(), key=lambda x: x[1], reverse=True)  \n",
    "    for item in sorted_dict:\n",
    "        print(item[0], item[1])"
   ]
  },
  {
   "cell_type": "code",
   "execution_count": 18,
   "metadata": {},
   "outputs": [
    {
     "name": "stdout",
     "output_type": "stream",
     "text": [
      "Hyalo world\n",
      "\n",
      "Hyalo everyone\n",
      "\n",
      "Goodbye Hyalo\n",
      "\n",
      "\n",
      "\n"
     ]
    }
   ],
   "source": [
    "# Task: Write a function that scans through a file, replaces all occurrences of a specified string with another string, and ensures the changes are saved to the file.\n",
    "def replace_in_file(file_path, old_str, new_str):\n",
    "    with open(file_path, 'r') as file:\n",
    "        lines = file.readlines()\n",
    "\n",
    "    with open(file_path, 'w+') as file:\n",
    "        for line in lines:\n",
    "            print(line)\n",
    "            file.write(line.replace(old_str, new_str))\n",
    "\n",
    "replace_in_file('sample.txt', 'Hi', 'Hyalo')\n",
    "\n"
   ]
  },
  {
   "cell_type": "code",
   "execution_count": 110,
   "metadata": {},
   "outputs": [
    {
     "name": "stdout",
     "output_type": "stream",
     "text": [
      "Line 1 from file 1 Line 1 from file 2\n",
      "Line 2 from file 1 Line 2 from file 2\n",
      "Line 3 from file 1 Line 3 from file 2\n"
     ]
    }
   ],
   "source": [
    "# Task: Write a script that takes two text files, then merges them line by line into a new file. The first line of the new file should contain the first lines of both input files, and so on.\n",
    "def merge_files(file1, file2, output_file):\n",
    "    with open(file1, 'r') as f1, open(file2, 'r') as f2, open(output_file, 'w') as out_file:\n",
    "        for line1, line2 in zip(f1, f2):\n",
    "            out_file.write(line1.strip() + ' ' + line2.strip() + '\\n')\n",
    "\n",
    "file1 = 'file1.txt'\n",
    "file2 = 'file2.txt'\n",
    "output_file = 'merged.txt'\n",
    "\n",
    "merge_files(file1, file2, output_file)\n",
    "\n",
    "with open(output_file, 'r') as f:\n",
    "    for line in f:\n",
    "        print(line.strip())\n",
    "\n",
    " "
   ]
  },
  {
   "cell_type": "code",
   "execution_count": 95,
   "metadata": {},
   "outputs": [
    {
     "name": "stdout",
     "output_type": "stream",
     "text": [
      "1 a\n",
      "2 b\n",
      "3 c\n"
     ]
    }
   ],
   "source": [
    "list1 = [1, 2, 3]\n",
    "list2 = ['a', 'b', 'c']\n",
    "\n",
    "for item1, item2 in zip(list1, list2):\n",
    "    print(item1, item2)\n"
   ]
  }
 ],
 "metadata": {
  "kernelspec": {
   "display_name": "Python 3",
   "language": "python",
   "name": "python3"
  },
  "language_info": {
   "codemirror_mode": {
    "name": "ipython",
    "version": 3
   },
   "file_extension": ".py",
   "mimetype": "text/x-python",
   "name": "python",
   "nbconvert_exporter": "python",
   "pygments_lexer": "ipython3",
   "version": "3.12.3"
  }
 },
 "nbformat": 4,
 "nbformat_minor": 2
}
